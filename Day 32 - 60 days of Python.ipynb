{
 "cells": [
  {
   "cell_type": "code",
   "execution_count": 1,
   "metadata": {},
   "outputs": [],
   "source": [
    "#List Manipulation in Python"
   ]
  },
  {
   "cell_type": "code",
   "execution_count": 2,
   "metadata": {},
   "outputs": [],
   "source": [
    "# List manipulation refers to the process of modifying or transforming lists in a programming context.\n",
    "# List[]: list is a built- in data type that allows you to store and organize a collection of elements.\n",
    "# Advantages: List manipulation involves performing various operations on lists to achieve specific tasks or outcomes. Common list manipulation tasks include adding or removing elements, accessing elements at specific positions, sorting, filtering and transforming the elements in some way."
   ]
  },
  {
   "cell_type": "code",
   "execution_count": 3,
   "metadata": {},
   "outputs": [],
   "source": [
    "#Question: Create a function named remove_duplicates. It will take a list(input_list)  as its parameter. It then iterates through the elements of the input list and appends each unique element to a new list(unique_list). This new list is then returned."
   ]
  },
  {
   "cell_type": "code",
   "execution_count": 4,
   "metadata": {},
   "outputs": [],
   "source": [
    "def  remove_duplicates(input_list):\n",
    "    unique_list = []\n",
    "\n",
    "    for item in input_list:\n",
    "        if item not in unique_list:\n",
    "            unique_list.append(item)\n",
    "\n",
    "    return unique_list\n",
    "    "
   ]
  },
  {
   "cell_type": "code",
   "execution_count": 10,
   "metadata": {},
   "outputs": [
    {
     "name": "stdout",
     "output_type": "stream",
     "text": [
      "Real list[1, 2, 3, 4, 2, 3, 2, 7, 8]\n",
      "unique_list[1, 2, 3, 4, 7, 8]\n"
     ]
    }
   ],
   "source": [
    "input_list = [1,2,3,4,2,3,2,7,8]\n",
    "remove_duplicates(input_list)\n",
    "\n",
    "print(f'Real list{input_list}')\n",
    "print(f'unique_list{remove_duplicates(input_list)}')"
   ]
  },
  {
   "cell_type": "code",
   "execution_count": 11,
   "metadata": {},
   "outputs": [],
   "source": [
    "# Double in a list"
   ]
  },
  {
   "cell_type": "code",
   "execution_count": 8,
   "metadata": {},
   "outputs": [],
   "source": [
    "def  double_elements(input_list):\n",
    "    double_list = [2*x for x in input_list]\n",
    "\n",
    "    return double_list"
   ]
  },
  {
   "cell_type": "code",
   "execution_count": 9,
   "metadata": {},
   "outputs": [
    {
     "data": {
      "text/plain": [
       "[2, 4, 6, 8, 4, 6, 4, 14, 16]"
      ]
     },
     "execution_count": 9,
     "metadata": {},
     "output_type": "execute_result"
    }
   ],
   "source": [
    "input_list = [1,2,3,4,2,3,2,7,8]\n",
    "double_elements(input_list)"
   ]
  },
  {
   "cell_type": "code",
   "execution_count": null,
   "metadata": {},
   "outputs": [],
   "source": []
  }
 ],
 "metadata": {
  "kernelspec": {
   "display_name": "Python 3",
   "language": "python",
   "name": "python3"
  },
  "language_info": {
   "codemirror_mode": {
    "name": "ipython",
    "version": 3
   },
   "file_extension": ".py",
   "mimetype": "text/x-python",
   "name": "python",
   "nbconvert_exporter": "python",
   "pygments_lexer": "ipython3",
   "version": "3.11.9"
  }
 },
 "nbformat": 4,
 "nbformat_minor": 2
}
