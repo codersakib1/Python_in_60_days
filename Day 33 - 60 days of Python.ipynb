{
 "cells": [
  {
   "cell_type": "code",
   "execution_count": 1,
   "metadata": {},
   "outputs": [],
   "source": [
    "# Assignment on Breakup "
   ]
  },
  {
   "cell_type": "code",
   "execution_count": 2,
   "metadata": {},
   "outputs": [],
   "source": [
    "# Problem 1 : List Sum\n",
    "\n",
    "# Write a python function that takes a list of numbers as input and returns the sum of all the elements in the list.\n",
    "# input_numbers = [1,2,3,4,5]\n",
    "#Sum:15"
   ]
  },
  {
   "cell_type": "code",
   "execution_count": 2,
   "metadata": {},
   "outputs": [
    {
     "name": "stdout",
     "output_type": "stream",
     "text": [
      "Sum:  15\n"
     ]
    }
   ],
   "source": [
    "def list_sum(numbers):\n",
    "       total = 0\n",
    "       for num in numbers:\n",
    "              total +=num\n",
    "       return total\n",
    "\n",
    "input_numbers = [1,2,3,4,5]\n",
    "result = list_sum(input_numbers)\n",
    "print(\"Sum: \", result)\n",
    "\n",
    "       \n",
    "   \n",
    "        \n"
   ]
  },
  {
   "cell_type": "code",
   "execution_count": 4,
   "metadata": {},
   "outputs": [],
   "source": [
    "# Problem 2: List Reversal\n",
    "\n",
    "# Create a function that reverses a given list and returns the reversed list.\n",
    "# original_list = [10, 20, 30, 40, 50]\n",
    "#  Reversed List : [50, 40, 30, 20, 10]"
   ]
  },
  {
   "cell_type": "code",
   "execution_count": 4,
   "metadata": {},
   "outputs": [
    {
     "name": "stdout",
     "output_type": "stream",
     "text": [
      "Original List: [10, 20, 30, 40, 50]\n",
      "Reversed List: [50, 40, 30, 20, 10]\n"
     ]
    }
   ],
   "source": [
    "def reverse_list(first):\n",
    "    reversed_lst = first[::-1]\n",
    "    return reversed_lst\n",
    "\n",
    "# Example usage:\n",
    "original_list = [10, 20, 30, 40, 50]\n",
    "reversed_list = reverse_list(original_list)\n",
    "print(\"Original List:\", original_list)\n",
    "print(\"Reversed List:\", reversed_list)"
   ]
  },
  {
   "cell_type": "code",
   "execution_count": 6,
   "metadata": {},
   "outputs": [],
   "source": [
    "# Problem 3: List Even Numbers\n",
    "\n",
    "# Write a function that takes a list of integers as input and returns a new list containing only the even numbers.\n",
    "#numbers = [1,2,3,4,5,6,7,8,9,10]\n",
    "#Even Numbers:[2,4,6,8,10]"
   ]
  },
  {
   "cell_type": "code",
   "execution_count": 11,
   "metadata": {},
   "outputs": [
    {
     "name": "stdout",
     "output_type": "stream",
     "text": [
      "Original_list: [1, 2, 3, 4, 5, 6, 7, 8, 9, 10]\n",
      "Even Numbers: [2, 4, 6, 8, 10]\n"
     ]
    }
   ],
   "source": [
    "def even_numbers(numbers):\n",
    "    even_nums = [num for num in numbers if num % 2 ==0]\n",
    "    return even_nums\n",
    "\n",
    "numbers = [1,2,3,4,5,6,7,8,9,10]\n",
    "even_numbers_list = even_numbers(numbers)\n",
    "print(\"Original_list:\", numbers)\n",
    "print (\"Even Numbers:\", even_numbers_list)"
   ]
  },
  {
   "cell_type": "code",
   "execution_count": 7,
   "metadata": {},
   "outputs": [],
   "source": [
    "#Problem 4 : List Duplicates\n",
    "\n",
    "# Create a function that finds and returns a list of unique elements from a given list. \n",
    "#elements = [1,2,2,3,4,4,5]\n",
    "# Unique Elements: [1,2,3,4,5]"
   ]
  },
  {
   "cell_type": "code",
   "execution_count": 13,
   "metadata": {},
   "outputs": [
    {
     "name": "stdout",
     "output_type": "stream",
     "text": [
      "Original List [1, 2, 3, 4, 5, 4, 5]\n",
      "Unique Elements:  [1, 2, 3, 4, 5]\n"
     ]
    }
   ],
   "source": [
    "def find_unique_elements(elements):\n",
    "    unique_elements = list(set(elements))\n",
    "    return unique_elements\n",
    "\n",
    "elements = [1,2,3,4,5,4,5]\n",
    "unique_elements = find_unique_elements(elements)\n",
    "print(\"Original List\", elements)\n",
    "print(\"Unique Elements: \", unique_elements)"
   ]
  },
  {
   "cell_type": "code",
   "execution_count": 8,
   "metadata": {},
   "outputs": [],
   "source": [
    "# Problem 5 : List Concatenation\n",
    "\n",
    "# Write a function that takes two lists as input and returns a new list that is the concatenation of the two input lists.\n",
    "#list1 = [1,2,3]\n",
    "#list2 = [4,5,6]\n",
    "# Concatenated List; [1,2,3,4,5,6]"
   ]
  },
  {
   "cell_type": "code",
   "execution_count": 14,
   "metadata": {},
   "outputs": [
    {
     "name": "stdout",
     "output_type": "stream",
     "text": [
      "List 1: [1, 2, 3]\n",
      "List 2: [4, 5, 6]\n",
      "Concatenated List: [1, 2, 3, 4, 5, 6]\n"
     ]
    }
   ],
   "source": [
    "def concatenate_lists(list1, list2):\n",
    "    concatenated_list = list1 + list2\n",
    "    return concatenated_list\n",
    "\n",
    "list1 = [1,2,3]\n",
    "list2 = [4,5,6]\n",
    "concatenated_list = concatenate_lists(list1, list2)\n",
    "print(\"List 1:\", list1 )\n",
    "print(\"List 2:\", list2)\n",
    "print(\"Concatenated List:\", concatenated_list)"
   ]
  }
 ],
 "metadata": {
  "kernelspec": {
   "display_name": "Python 3",
   "language": "python",
   "name": "python3"
  },
  "language_info": {
   "codemirror_mode": {
    "name": "ipython",
    "version": 3
   },
   "file_extension": ".py",
   "mimetype": "text/x-python",
   "name": "python",
   "nbconvert_exporter": "python",
   "pygments_lexer": "ipython3",
   "version": "3.11.9"
  }
 },
 "nbformat": 4,
 "nbformat_minor": 2
}
