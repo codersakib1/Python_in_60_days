{
 "cells": [
  {
   "cell_type": "code",
   "execution_count": 1,
   "metadata": {},
   "outputs": [],
   "source": [
    "# 28.06.24\n",
    "# File Handling in Python: Open, append, Read, Write"
   ]
  },
  {
   "cell_type": "code",
   "execution_count": 2,
   "metadata": {},
   "outputs": [],
   "source": [
    "# Example 1: Reading Text from a File\n",
    "#Before reading from a file, you read to make sure the file exits. This example will show you how to open a text file and read its contents line by line, which is useful for processing files that are too large to fit into memory all at once"
   ]
  },
  {
   "cell_type": "code",
   "execution_count": 3,
   "metadata": {},
   "outputs": [
    {
     "name": "stdout",
     "output_type": "stream",
     "text": [
      "We are allowing you to learn Python, Django, Machine Learning & AI. Visit www.aiquest.org\n"
     ]
    }
   ],
   "source": [
    "with open ('py1.txt', 'r') as file:\n",
    "    #Read each line in the file one at a time\n",
    "    for line in file:\n",
    "        #Process each line\n",
    "        print(line.strip()) # The strip() method removes any leading/trailing whitespace & newline characters\n"
   ]
  },
  {
   "cell_type": "code",
   "execution_count": 4,
   "metadata": {},
   "outputs": [],
   "source": [
    "# This approach uses the \"with statement\"to ensure that the file is properly closed after its suite finishes even if an exception is raised. It's a best practice for resource management."
   ]
  },
  {
   "cell_type": "code",
   "execution_count": 5,
   "metadata": {},
   "outputs": [],
   "source": [
    "# Writing text to a file\n",
    "# write strings to a file, which is useful for logging, saving outputs etc. We 'll open a file in write mode (\"w\"),Which creates the file if it doesn't exist or truncates it if it does."
   ]
  },
  {
   "cell_type": "code",
   "execution_count": 15,
   "metadata": {},
   "outputs": [],
   "source": [
    "lines_to_write = ['we are allowing you to learn Python, Django, Machine learning & AI.', 'Python makes file handling easy','Visit: www.aiquest.org']"
   ]
  },
  {
   "cell_type": "code",
   "execution_count": 16,
   "metadata": {},
   "outputs": [],
   "source": [
    "#open the file in write mode('w)\n",
    "with open ('py2.txt', 'w') as file:\n",
    "    for line in lines_to_write:\n",
    "        #write each line to the file with a newline character at the end\n",
    "        file.write(line + ' ') "
   ]
  },
  {
   "cell_type": "code",
   "execution_count": 13,
   "metadata": {},
   "outputs": [],
   "source": [
    "# Using file.write() allows you to add text to a file. If you need to write multiple lines, you might use file.writelines() where you can pass a list of strings."
   ]
  },
  {
   "cell_type": "code",
   "execution_count": 14,
   "metadata": {},
   "outputs": [],
   "source": [
    "# Example 3: Appending Text to an Existing File\n",
    "# If you want to add text to the end of an existing file without overwriting its contents, you should open the file in append mode ('a'). This example demon how  to append multiple lines to an existing file."
   ]
  },
  {
   "cell_type": "code",
   "execution_count": 22,
   "metadata": {},
   "outputs": [],
   "source": [
    "new_text1 = ['Learn data science smartly.', 'AI is Future.']\n",
    "\n",
    "#open the file in append mode ('a')\n",
    "with open ('py2.txt', 'a') as file:\n",
    "    for line in new_text1:\n",
    "        #Append reach line to the file\n",
    "        file.write(line +'\\n')"
   ]
  },
  {
   "cell_type": "code",
   "execution_count": 20,
   "metadata": {},
   "outputs": [],
   "source": [
    "# This method is particularly useful for logging scenarios where new entires need to be added to a log file over time without losing the existing data."
   ]
  }
 ],
 "metadata": {
  "kernelspec": {
   "display_name": "Python 3",
   "language": "python",
   "name": "python3"
  },
  "language_info": {
   "codemirror_mode": {
    "name": "ipython",
    "version": 3
   },
   "file_extension": ".py",
   "mimetype": "text/x-python",
   "name": "python",
   "nbconvert_exporter": "python",
   "pygments_lexer": "ipython3",
   "version": "3.11.9"
  }
 },
 "nbformat": 4,
 "nbformat_minor": 2
}
