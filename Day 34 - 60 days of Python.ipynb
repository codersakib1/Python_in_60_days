{
 "cells": [
  {
   "cell_type": "code",
   "execution_count": 1,
   "metadata": {},
   "outputs": [],
   "source": [
    "# Parameters Vs. Arguments?\n",
    "#1. Parameters: These the names listed in the function. They act as placeholders for the actual values that will be passed into the function when it is called.\n",
    "\n",
    "#2. Arguments: These are the actual values that are passed to a function when it is called. Arguments are the values that replace the parameters when the function is invoked."
   ]
  },
  {
   "cell_type": "code",
   "execution_count": 3,
   "metadata": {},
   "outputs": [
    {
     "data": {
      "text/plain": [
       "30"
      ]
     },
     "execution_count": 3,
     "metadata": {},
     "output_type": "execute_result"
    }
   ],
   "source": [
    "def add_num(x, y):\n",
    "    result = x+y\n",
    "    return result\n",
    "\n",
    "add_num (10, 20)"
   ]
  },
  {
   "cell_type": "code",
   "execution_count": 6,
   "metadata": {},
   "outputs": [
    {
     "name": "stdout",
     "output_type": "stream",
     "text": [
      "10\n"
     ]
    }
   ],
   "source": [
    "def add_num(x, y):\n",
    "    print(x)\n",
    "    \n",
    "    \n",
    "add_num(10,30)\n",
    "\n"
   ]
  },
  {
   "cell_type": "code",
   "execution_count": 7,
   "metadata": {},
   "outputs": [],
   "source": [
    "# positional argument \n",
    "# keyword argument\n",
    "# default argument\n",
    "# variable length argument"
   ]
  },
  {
   "cell_type": "code",
   "execution_count": 8,
   "metadata": {},
   "outputs": [
    {
     "data": {
      "text/plain": [
       "30"
      ]
     },
     "execution_count": 8,
     "metadata": {},
     "output_type": "execute_result"
    }
   ],
   "source": [
    "# positional argument \n",
    "\n",
    "def add_num(x, y):\n",
    "    result = x+y\n",
    "    return result\n",
    "\n",
    "add_num (10, 20)"
   ]
  },
  {
   "cell_type": "code",
   "execution_count": 10,
   "metadata": {},
   "outputs": [
    {
     "name": "stdout",
     "output_type": "stream",
     "text": [
      "data scientist\n",
      "200000\n"
     ]
    }
   ],
   "source": [
    "# keyword argument\n",
    "\n",
    "def personal(job, income):\n",
    "    print(job)\n",
    "    print(income)\n",
    "personal('data scientist', 200000)\n",
    "\n"
   ]
  },
  {
   "cell_type": "code",
   "execution_count": 11,
   "metadata": {},
   "outputs": [
    {
     "name": "stdout",
     "output_type": "stream",
     "text": [
      "Job =  data scientist\n",
      "Income =  200000\n"
     ]
    }
   ],
   "source": [
    "def personal(job, income):\n",
    "    print('Job = ', job)\n",
    "    print('Income = ', income)\n",
    "personal(income = 200000, job = 'data scientist')"
   ]
  },
  {
   "cell_type": "code",
   "execution_count": 14,
   "metadata": {},
   "outputs": [
    {
     "name": "stdout",
     "output_type": "stream",
     "text": [
      "Job =  data scientist\n",
      "Income =  100000\n"
     ]
    }
   ],
   "source": [
    "# default argument\n",
    "def personal(job, income = 100000 ):\n",
    "    print('Job = ', job)\n",
    "    print('Income = ', income)\n",
    "personal('data scientist')"
   ]
  },
  {
   "cell_type": "code",
   "execution_count": 17,
   "metadata": {},
   "outputs": [
    {
     "name": "stdout",
     "output_type": "stream",
     "text": [
      "(10, 30, 10, 1000, 4000)\n"
     ]
    },
    {
     "data": {
      "text/plain": [
       "5050"
      ]
     },
     "execution_count": 17,
     "metadata": {},
     "output_type": "execute_result"
    }
   ],
   "source": [
    "# variable length argument\n",
    "def  add_num(*x):\n",
    "    print(x)\n",
    "    result = sum(x)\n",
    "    return result\n",
    "\n",
    "add_num(10, 30, 10, 1000, 4000)\n",
    "    "
   ]
  },
  {
   "cell_type": "code",
   "execution_count": 18,
   "metadata": {},
   "outputs": [
    {
     "name": "stdout",
     "output_type": "stream",
     "text": [
      "10\n",
      "(30, 10, 1000, 4000)\n"
     ]
    }
   ],
   "source": [
    "def  add_num(x, *y):\n",
    "    print(x)\n",
    "    print(y)\n",
    "    \n",
    "\n",
    "add_num(10, 30, 10, 1000, 4000)"
   ]
  }
 ],
 "metadata": {
  "kernelspec": {
   "display_name": "Python 3",
   "language": "python",
   "name": "python3"
  },
  "language_info": {
   "codemirror_mode": {
    "name": "ipython",
    "version": 3
   },
   "file_extension": ".py",
   "mimetype": "text/x-python",
   "name": "python",
   "nbconvert_exporter": "python",
   "pygments_lexer": "ipython3",
   "version": "3.11.9"
  }
 },
 "nbformat": 4,
 "nbformat_minor": 2
}
